{
  "cells": [
    {
      "cell_type": "markdown",
      "metadata": {
        "id": "KGV3YvEqLkXV"
      },
      "source": [
        "# The Message\n",
        "\n",
        "> Forcing transgender children away from their parents is a form of violence and is an affront to human rights. It also serves no constructive purpose, as removing transgender children from their family homes will only cause them further trauma and make it harder for them to access the resources they need to thrive. Allowing the state of Florida to kidnap transgender children from their parents is not only inhumane, but it also stands in violation of key human rights, such as the right to family life, the right to freedom of expression, and the right to consent to medical procedures. It is an unacceptable intrusion on people's lives, and it must be stopped.\n"
      ]
    },
    {
      "cell_type": "markdown",
      "metadata": {
        "id": "YXlhSoecO-FQ"
      },
      "source": [
        "## Why?\n",
        "\n",
        "> ### Florida Legislature Passes Extreme Anti-Trans Bathroom Bill and Gender-Affirming Care Ban in an Egregious Assault on Parental Rights\n",
        ">\n",
        "> _https://www.hrc.org/press-releases/florida-legislature-passes-extreme-anti-trans-bathroom-bill-and-gender-affirming-care-ban-in-an-egregious-assault-on-parental-rights_\n"
      ]
    },
    {
      "cell_type": "code",
      "execution_count": 2,
      "metadata": {
        "id": "1Vhq8p3pSVJZ"
      },
      "outputs": [],
      "source": [
        "%%capture apt\n",
        "!apt-get update\n",
        "!apt install libxtst6\n",
        "!apt install chromium-webdriver"
      ]
    },
    {
      "cell_type": "markdown",
      "metadata": {
        "id": "amCgxAOuOVsX"
      },
      "source": [
        "## What?\n",
        "  * Flood all communication services\n",
        "    * Work & personal email\n",
        "    * Phone\n",
        "    * Fax\n",
        "    * SMS\n",
        "    * Social Media"
      ]
    },
    {
      "cell_type": "code",
      "execution_count": 3,
      "metadata": {
        "id": "tbiU8r7LKUGk"
      },
      "outputs": [],
      "source": [
        "%%capture pip\n",
        "!pip install chance nest-asyncio pyppeteer"
      ]
    },
    {
      "cell_type": "markdown",
      "metadata": {
        "id": "pr5TKTfaObai"
      },
      "source": [
        "## Who?\n",
        "  * All Florida reps who vote YEA on SB-254\n",
        "    * families\n",
        "    * friends\n",
        "    * staff"
      ]
    },
    {
      "cell_type": "code",
      "execution_count": 4,
      "metadata": {
        "id": "NJ5_ez4SOQQh"
      },
      "outputs": [],
      "source": [
        "yea_votes = [\n",
        "  { \"name\": \"Abbott\", \"district\": \"5\" },\n",
        "  { \"name\": \"Overdorf\", \"district\": \"85\" },\n",
        "  { \"name\": \"Altman\", \"district\": \"32\" },\n",
        "  { \"name\": \"Esposito\", \"district\": \"77\" },\n",
        "  { \"name\": \"Payne\", \"district\": \"20\" },\n",
        "  { \"name\": \"Alvarez\", \"district\": \"69\" },\n",
        "  { \"name\": \"Fabricio\", \"district\": \"110\" },\n",
        "  { \"name\": \"Perez\", \"district\": \"116\" },\n",
        "  { \"name\": \"Amesty\", \"district\": \"45\" },\n",
        "  { \"name\": \"Fernandez-Barquin\", \"district\": \"118\" },\n",
        "  { \"name\": \"Persons-Mulicka\", \"district\": \"78\" },\n",
        "  { \"name\": \"Anderson\", \"district\": \"57\" },\n",
        "  { \"name\": \"Fine\", \"district\": \"33\" },\n",
        "  { \"name\": \"Plakon\", \"district\": \"36\" },\n",
        "  { \"name\": \"Andrade\", \"district\": \"2\" },\n",
        "  { \"name\": \"Franklin\", \"district\": \"8\" },\n",
        "  { \"name\": \"Plasencia\", \"district\": \"37\" },\n",
        "  { \"name\": \"Porras\", \"district\": \"119\" },\n",
        "  { \"name\": \"Garcia\", \"district\": \"115\" },\n",
        "  { \"name\": \"Baker\", \"district\": \"17\" },\n",
        "  { \"name\": \"Garrison\", \"district\": \"11\" },\n",
        "  { \"name\": \"Renner\", \"district\": \"19\" },\n",
        "  { \"name\": \"Bankson\", \"district\": \"39\" },\n",
        "  { \"name\": \"Giallombardo\", \"district\": \"79\" },\n",
        "  { \"name\": \"Rizo\", \"district\": \"112\" },\n",
        "  { \"name\": \"Barnaby\", \"district\": \"29\" },\n",
        "  { \"name\": \"Gonzalez Pittman\", \"district\": \"65\" },\n",
        "  { \"name\": \"Roach\", \"district\": \"76\" },\n",
        "  { \"name\": \"Gossett-Seidman\", \"district\": \"91\" },\n",
        "  { \"name\": \"Basabe\", \"district\": \"106\" },\n",
        "  { \"name\": \"Robinson, W.\", \"district\": \"71\" },\n",
        "  { \"name\": \"Bell\", \"district\": \"49\" },\n",
        "  { \"name\": \"Grant\", \"district\": \"75\" },\n",
        "  { \"name\": \"Rommel\", \"district\": \"81\" },\n",
        "  { \"name\": \"Beltran\", \"district\": \"70\" },\n",
        "  { \"name\": \"Gregory\", \"district\": \"72\" },\n",
        "  { \"name\": \"Roth\", \"district\": \"94\" },\n",
        "  { \"name\": \"Griffitts\", \"district\": \"6\" },\n",
        "  { \"name\": \"Rudman\", \"district\": \"3\" },\n",
        "  { \"name\": \"Berfield\", \"district\": \"58\" },\n",
        "  { \"name\": \"Salzman\", \"district\": \"1\" },\n",
        "  { \"name\": \"Black\", \"district\": \"15\" },\n",
        "  { \"name\": \"Shoaf\", \"district\": \"7\" },\n",
        "  { \"name\": \"Borrero\", \"district\": \"111\" },\n",
        "  { \"name\": \"Hawkins\", \"district\": \"35\" },\n",
        "  { \"name\": \"Botana\", \"district\": \"80\" },\n",
        "  { \"name\": \"Sirois\", \"district\": \"31\" },\n",
        "  { \"name\": \"Brackett\", \"district\": \"34\" },\n",
        "  { \"name\": \"Holcomb\", \"district\": \"53\" },\n",
        "  { \"name\": \"Smith\", \"district\": \"38\" },\n",
        "  { \"name\": \"Brannan\", \"district\": \"10\" },\n",
        "  { \"name\": \"Jacques\", \"district\": \"59\" },\n",
        "  { \"name\": \"Snyder\", \"district\": \"86\" },\n",
        "  { \"name\": \"Buchanan\", \"district\": \"108\" },\n",
        "  { \"name\": \"Stark\", \"district\": \"47\" },\n",
        "  { \"name\": \"Busatta Cabrera\", \"district\": \"114\" },\n",
        "  { \"name\": \"Killebrew\", \"district\": \"48\" },\n",
        "  { \"name\": \"Steele\", \"district\": \"55\" },\n",
        "  { \"name\": \"Koster\", \"district\": \"66\" },\n",
        "  { \"name\": \"Stevenson\", \"district\": \"18\" },\n",
        "  { \"name\": \"Canady\", \"district\": \"50\" },\n",
        "  { \"name\": \"LaMarca\", \"district\": \"100\" },\n",
        "  { \"name\": \"Caruso\", \"district\": \"87\" },\n",
        "  { \"name\": \"Leek\", \"district\": \"28\" },\n",
        "  { \"name\": \"Temple\", \"district\": \"52\" },\n",
        "  { \"name\": \"Tomkow\", \"district\": \"51\" },\n",
        "  { \"name\": \"Lopez, V.\", \"district\": \"113\" },\n",
        "  { \"name\": \"Trabulsy\", \"district\": \"84\" },\n",
        "  { \"name\": \"Maggard\", \"district\": \"54\" },\n",
        "  { \"name\": \"Tramont\", \"district\": \"30\" },\n",
        "  { \"name\": \"Chaney\", \"district\": \"61\" },\n",
        "  { \"name\": \"Maney\", \"district\": \"4\" },\n",
        "  { \"name\": \"Truenow\", \"district\": \"26\" },\n",
        "  { \"name\": \"Clemons\", \"district\": \"22\" },\n",
        "  { \"name\": \"Massullo\", \"district\": \"23\" },\n",
        "  { \"name\": \"Tuck\", \"district\": \"83\" },\n",
        "  { \"name\": \"McClain\", \"district\": \"27\" },\n",
        "  { \"name\": \"McClure\", \"district\": \"68\" },\n",
        "  { \"name\": \"Melo\", \"district\": \"82\" },\n",
        "  { \"name\": \"Duggan\", \"district\": \"12\" },\n",
        "  { \"name\": \"Michael\", \"district\": \"16\" },\n",
        "  { \"name\": \"Yarkosky\", \"district\": \"25\" },\n",
        "]"
      ]
    },
    {
      "cell_type": "markdown",
      "metadata": {
        "id": "7QwZj-_sOVtr"
      },
      "source": [
        "## How?\n",
        "\n",
        "### OSINT\n",
        "  * Who are our contacts?"
      ]
    },
    {
      "cell_type": "code",
      "execution_count": 5,
      "metadata": {
        "colab": {
          "base_uri": "https://localhost:8080/"
        },
        "id": "QG9jxnvQS7Zp",
        "outputId": "81680087-8926-44bf-f92f-4bdb4853271f"
      },
      "outputs": [
        {
          "output_type": "stream",
          "name": "stderr",
          "text": [
            "[INFO] Starting Chromium download.\n",
            "INFO:pyppeteer.chromium_downloader:Starting Chromium download.\n",
            "100%|██████████| 109M/109M [00:01<00:00, 98.0Mb/s]\n",
            "[INFO] Beginning extraction\n",
            "INFO:pyppeteer.chromium_downloader:Beginning extraction\n",
            "[INFO] Chromium extracted to: /root/.local/share/pyppeteer/local-chromium/588429\n",
            "INFO:pyppeteer.chromium_downloader:Chromium extracted to: /root/.local/share/pyppeteer/local-chromium/588429\n"
          ]
        }
      ],
      "source": [
        "import re\n",
        "import os\n",
        "import json\n",
        "import asyncio\n",
        "import nest_asyncio\n",
        "from pyppeteer import launch\n",
        "\n",
        "nest_asyncio.apply()\n",
        "\n",
        "async def scrape_reps():\n",
        "  browser = await launch({ 'args': ['--no-sandbox'], 'headless': True })\n",
        "  page = await browser.newPage()\n",
        "  \n",
        "  await page.goto('https://www.myfloridahouse.gov/Sections/Representatives/representatives.aspx')\n",
        "  \n",
        "  for yea_vote in yea_votes:\n",
        "    rep_node = await page.xpath('//span[text()=\"District: %s\"]' % (yea_vote['district']))\n",
        "    rep_node_name = await page.evaluate('e => e.parentNode.parentNode.querySelector(\"h5\").textContent', rep_node[0])\n",
        "    yea_vote['name'] = re.sub(r'\\s+$', '', re.sub(r'^\\s+', '', rep_node_name)).strip()\n",
        "    yea_vote['contact'] = await page.evaluate('e => e.parentNode.parentNode.parentNode.parentNode.querySelector(\\'a[title=\"Contact Member\"]\\').href', rep_node[0])\n",
        "    yea_vote['details'] = await page.evaluate('e => e.parentNode.parentNode.parentNode.href', rep_node[0])\n",
        "\n",
        "  json_object = json.dumps(yea_votes, indent=2)\n",
        "  with open('./drive/MyDrive/SB254/yea_votes.json', 'w') as outfile: outfile.write(json_object)\n",
        "  await browser.close()\n",
        "\n",
        "asyncio.get_event_loop().run_until_complete(scrape_reps())"
      ]
    },
    {
      "cell_type": "markdown",
      "source": [
        "* Who are their staff?"
      ],
      "metadata": {
        "id": "PlLI4ejhyegL"
      }
    },
    {
      "cell_type": "code",
      "source": [
        "async def scrape_staff():\n",
        "  browser = await launch({ 'args': ['--no-sandbox'], 'headless': True })\n",
        "  page = await browser.newPage()\n",
        "\n",
        "  json_file = open('./drive/MyDrive/SB254/yea_votes.json', 'r')\n",
        "  yea_votes = json.load(json_file)\n",
        "  json_file.close()\n",
        "\n",
        "  for yea_vote in yea_votes:\n",
        "    await page.goto(yea_vote['details'])\n",
        "    for staff_node in await page.querySelectorAll('.staff-job'):\n",
        "      staff_node_text = await page.evaluate('e => e.innerText', staff_node)\n",
        "      staff_node_lines = re.split(r'\\s{2,}', staff_node_text.strip())\n",
        "      for staff in staff_node_lines[1:]:\n",
        "        if 'staff' in yea_vote: yea_vote['staff'].append(staff)\n",
        "        else: yea_vote['staff'] = [staff]\n",
        "\n",
        "  json_object = json.dumps(yea_votes, indent=2)\n",
        "  with open('./drive/MyDrive/SB254/yea_votes.json', 'w') as outfile: outfile.write(json_object)\n",
        "\n",
        "  await browser.close()\n",
        "\n",
        "asyncio.get_event_loop().run_until_complete(scrape_staff())"
      ],
      "metadata": {
        "id": "p0lPrNEOyRIH"
      },
      "execution_count": 6,
      "outputs": []
    },
    {
      "cell_type": "markdown",
      "source": [
        "  * What are their office contact numbers?"
      ],
      "metadata": {
        "id": "_s_T6cA-yxWI"
      }
    },
    {
      "cell_type": "code",
      "source": [
        "async def scrape_phones():\n",
        "  browser = await launch({ 'args': ['--no-sandbox'], 'headless': True })\n",
        "  page = await browser.newPage()\n",
        "\n",
        "  json_file = open('./drive/MyDrive/SB254/yea_votes.json', 'r')\n",
        "  yea_votes = json.load(json_file)\n",
        "  json_file.close()\n",
        "\n",
        "  for yea_vote in yea_votes:\n",
        "    await page.goto(yea_vote['contact'])\n",
        "    for info_node in await page.querySelectorAll('.info'):\n",
        "      info_text = await page.evaluate('e => e.innerText', info_node)\n",
        "      matches = re.search(r'\\s*(\\(\\d{3}\\) \\d{3}\\s*-\\s*\\d{4})\\s*', info_text)\n",
        "      if (matches):\n",
        "        phone = matches.group(1)\n",
        "        if 'phones' in yea_vote: yea_vote['phones'].append(phone)\n",
        "        else: yea_vote['phones'] = [phone]\n",
        "\n",
        "  json_object = json.dumps(yea_votes, indent=2)\n",
        "  with open('./drive/MyDrive/SB254/yea_votes.json', 'w') as outfile: outfile.write(json_object)\n",
        "\n",
        "  await browser.close()\n",
        "\n",
        "asyncio.get_event_loop().run_until_complete(scrape_phones())"
      ],
      "metadata": {
        "id": "zoXMmp5xpal3"
      },
      "execution_count": 7,
      "outputs": []
    },
    {
      "cell_type": "markdown",
      "source": [
        "* Hey look, those goddamned fools put their kids, spouses, and other info on their bio.\n",
        "* Holy shit it should not have been this easy."
      ],
      "metadata": {
        "id": "jBhwDgAieIW5"
      }
    },
    {
      "cell_type": "code",
      "source": [
        "async def scrape_bio():\n",
        "  browser = await launch({ 'args': ['--no-sandbox'], 'headless': True })\n",
        "  page = await browser.newPage()\n",
        "\n",
        "  json_file = open('./drive/MyDrive/SB254/yea_votes.json', 'r')\n",
        "  yea_votes = json.load(json_file)\n",
        "  json_file.close()\n",
        "\n",
        "  for yea_vote in yea_votes:\n",
        "    await page.goto(yea_vote['details'])\n",
        "    for bio_node in await page.querySelectorAll('.mi-content'):\n",
        "      bio_node_text = await page.evaluate('e => e.innerText', bio_node)\n",
        "      bio_node_lines = re.split(r'\\n+', bio_node_text.strip())\n",
        "      for bio_attrs in bio_node_lines[1:]:\n",
        "        bio_line = re.split(r'\\s{2,}', bio_attrs.strip())\n",
        "        if (len(bio_line) == 1):\n",
        "          if 'extra' in yea_vote: yea_vote['extra'].append(bio_line[0])\n",
        "          else: yea_vote['extra'] = [bio_line][0]\n",
        "        if (len(bio_line) > 1):\n",
        "          k, v = bio_line\n",
        "          if 'bio' in yea_vote: yea_vote['bio'][k] = v\n",
        "          else: yea_vote['bio'] = { k: v }\n",
        "  \n",
        "  json_object = json.dumps(yea_votes, indent=2)\n",
        "  with open('./drive/MyDrive/SB254/yea_votes.json', 'w') as outfile: outfile.write(json_object)\n",
        "\n",
        "  await browser.close()\n",
        "\n",
        "asyncio.get_event_loop().run_until_complete(scrape_bio())"
      ],
      "metadata": {
        "id": "Vb7anLA-eSrH"
      },
      "execution_count": 25,
      "outputs": []
    },
    {
      "cell_type": "markdown",
      "source": [
        "  * What are their personal phone numbers?\n",
        "\n",
        "\n"
      ],
      "metadata": {
        "id": "E58feP-8V3oo"
      }
    },
    {
      "cell_type": "code",
      "source": [],
      "metadata": {
        "id": "AzlDDF-hV9CW"
      },
      "execution_count": 8,
      "outputs": []
    },
    {
      "cell_type": "markdown",
      "metadata": {
        "id": "hh5D9NCzPLrz"
      },
      "source": [
        "### Integration\n",
        "  * send emails\n",
        "  * phone calls\n",
        "  * send faxes\n",
        "  * SMS\n",
        "  * cross-platform social media messaging"
      ]
    },
    {
      "cell_type": "markdown",
      "metadata": {
        "id": "FAl4GvstPPZE"
      },
      "source": [
        "### Automation & distribution\n",
        "  * Use this jupyter notebook to automate the process\n",
        "  * Publish the notebook for others to use"
      ]
    },
    {
      "cell_type": "markdown",
      "metadata": {
        "id": "jGUuEgf8PR2W"
      },
      "source": [
        "### Propagation\n",
        "  * Leverage community connections\n",
        "  * Post on social media\n",
        "  * Post in AnonOps IRC\n",
        "  * Post on Reddit"
      ]
    }
  ],
  "metadata": {
    "colab": {
      "provenance": []
    },
    "kernelspec": {
      "display_name": "Python 3",
      "name": "python3"
    },
    "language_info": {
      "name": "python"
    }
  },
  "nbformat": 4,
  "nbformat_minor": 0
}
